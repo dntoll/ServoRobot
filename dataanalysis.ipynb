{
 "cells": [
  {
   "cell_type": "code",
   "execution_count": 15,
   "metadata": {},
   "outputs": [],
   "source": [
    "X = [] #Position in image\n",
    "TX =[] #Robot arm belief position (forward kinematics)\n",
    "Y = [] #sev (shoulder, elbow, wrist)\n",
    "\n",
    "import json\n",
    "with open(\"robotArmDataSet.json\", \"rb\") as fp:\n",
    "    jsonContent = json.load(fp)\n",
    "\n",
    "    \n",
    "    X = jsonContent[0]\n",
    "    TX = jsonContent[1]\n",
    "    Y = jsonContent[2]"
   ]
  },
  {
   "cell_type": "code",
   "execution_count": 25,
   "metadata": {},
   "outputs": [
    {
     "name": "stdout",
     "output_type": "stream",
     "text": [
      "0.3850952974025558\n"
     ]
    }
   ],
   "source": [
    "\n",
    "from sklearn.cross_decomposition import PLSRegression\n",
    "from sklearn.model_selection import train_test_split\n",
    "\n",
    "trainInput, testInput, trainOutput, testOutput = train_test_split(X, Y, test_size=0.4, random_state= 0)\n",
    "\n",
    "pls2 = PLSRegression(n_components=2)\n",
    "pls2.fit(trainInput, trainOutput)\n",
    "\n",
    "s = pls2.score(testInput, testOutput)\n",
    "\n",
    "print(s)\n",
    "Y_pred = pls2.predict(X)\n",
    "#print(Y)\n",
    "#print(Y_pred)\n"
   ]
  },
  {
   "cell_type": "code",
   "execution_count": 33,
   "metadata": {},
   "outputs": [],
   "source": [
    "\n",
    "\n",
    "class FakeServo:\n",
    "    angle = 0\n",
    "\n",
    "class FakeKit:\n",
    "    servo = []\n",
    "\n",
    "    def __init__(self):\n",
    "        for i in range(16):\n",
    "            self.servo.append(FakeServo())\n",
    "\n",
    "\n",
    "YPT = []\n",
    "errors = []\n",
    "#forward kinematics\n",
    "from RobotArm import RobotArm\n",
    "import math \n",
    "fake = FakeKit()\n",
    "b = RobotArm(fake)\n",
    "i = 0\n",
    "for yp in Y_pred:\n",
    "    s= float(yp[0])\n",
    "    e= float(yp[1])\n",
    "    w= float(yp[2])\n",
    "\n",
    "    b.setState(RobotArm.ROTATE_NORMAL, s,e,w, 0)\n",
    "\n",
    "    ypt = [b.wristBone.getPos().x, b.wristBone.getPos().y]\n",
    "    YPT.append(ypt)\n",
    "\n",
    "    xdiff = TX[i][0] - YPT[i][0]\n",
    "    ydiff = TX[i][1] - YPT[i][1]\n",
    "    error = math.sqrt(xdiff * xdiff + ydiff * ydiff)\n",
    "\n",
    "    errors.append(error)\n",
    "    i += 1\n",
    "\n"
   ]
  },
  {
   "cell_type": "code",
   "execution_count": 37,
   "metadata": {},
   "outputs": [
    {
     "data": {
      "image/png": "[encoded data removed]",
      "text/plain": [
       "<Figure size 432x288 with 1 Axes>"
      ]
     },
     "metadata": {
      "needs_background": "light"
     },
     "output_type": "display_data"
    }
   ],
   "source": [
    "import matplotlib.pyplot as plt\n",
    "plt.boxplot(errors)\n",
    " \n",
    "# To show the plot\n",
    "plt.show()"
   ]
  }
 ],
 "metadata": {
  "interpreter": {
   "hash": "417e12c1f5df7edc8d7697f4d8bd6bb38dd1bab59c97a9e4e519344c161ebd50"
  },
  "kernelspec": {
   "display_name": "Python 3.10.4 64-bit (windows store)",
   "language": "python",
   "name": "python3"
  },
  "language_info": {
   "codemirror_mode": {
    "name": "ipython",
    "version": 3
   },
   "file_extension": ".py",
   "mimetype": "text/x-python",
   "name": "python",
   "nbconvert_exporter": "python",
   "pygments_lexer": "ipython3",
   "version": "3.10.4"
  },
  "orig_nbformat": 4
 },
 "nbformat": 4,
 "nbformat_minor": 2
}
